{
 "cells": [
  {
   "cell_type": "code",
   "execution_count": 54,
   "metadata": {},
   "outputs": [
    {
     "name": "stdout",
     "output_type": "stream",
     "text": [
      "  ResourceID     Sample\n",
      "0          1          A\n",
      "1          2  B $ C $ D\n",
      "2          3     E $ F \n"
     ]
    }
   ],
   "source": [
    "'''Read CSV // Detect $ in dataframe // Start a new line with value after $ and the same resID'''\n",
    "\n",
    "import pandas as pd\n",
    "\n",
    "file_path = './input/example_data.csv'\n",
    "df = pd.read_csv(file_path)#, 'r',  encoding='utf-8')\n",
    "df = pd.DataFrame(df, dtype=str)\n",
    "print(df)"
   ]
  },
  {
   "cell_type": "code",
   "execution_count": 57,
   "metadata": {},
   "outputs": [
    {
     "name": "stdout",
     "output_type": "stream",
     "text": [
      "B\n",
      "C\n",
      "D\n",
      "E\n",
      "F \n"
     ]
    }
   ],
   "source": [
    "#find the $ separated values\n",
    "for column in df.columns:\n",
    "    for entry in df[column]:\n",
    "        if \"$\" in entry:\n",
    "            entry = entry.split(' $ ')\n",
    "            for result in entry: \n",
    "                print(result)"
   ]
  },
  {
   "cell_type": "code",
   "execution_count": null,
   "metadata": {},
   "outputs": [],
   "source": []
  }
 ],
 "metadata": {
  "kernelspec": {
   "display_name": "Python 3",
   "language": "python",
   "name": "python3"
  },
  "language_info": {
   "codemirror_mode": {
    "name": "ipython",
    "version": 3
   },
   "file_extension": ".py",
   "mimetype": "text/x-python",
   "name": "python",
   "nbconvert_exporter": "python",
   "pygments_lexer": "ipython3",
   "version": "3.6.8"
  }
 },
 "nbformat": 4,
 "nbformat_minor": 2
}
