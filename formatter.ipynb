{
 "cells": [
  {
   "cell_type": "code",
   "execution_count": 209,
   "metadata": {
    "scrolled": true
   },
   "outputs": [
    {
     "name": "stdout",
     "output_type": "stream",
     "text": [
      "['A', 'B ', ' C ', ' D', 'E ', ' F ']\n"
     ]
    }
   ],
   "source": [
    "'''Read CSV // Detect $ in dataframe // Start a new line with value after $ and the same resID'''\n",
    "\n",
    "import pandas as pd\n",
    "\n",
    "file_path = './input/example_data.csv'\n",
    "df = pd.read_csv(file_path)#, 'r',  encoding='utf-8')\n",
    "df = pd.DataFrame(df, dtype=str)\n",
    "\n",
    "'''for column in df.columns:\n",
    "    df[column] = df[column].str.split(\"$\", expand=False)\n",
    "    for entry in df[column]:\n",
    "        n = 0\n",
    "        for value in entry:\n",
    "            print(entry[n])\n",
    "            n += 1''' \n",
    "a= []\n",
    "for ix in df.index:\n",
    "    a+=df.loc[ix]['Column 1'].split(\"$\")\n",
    "    \n",
    "#multi-values\n",
    "print(a[:])\n"
   ]
  },
  {
   "cell_type": "code",
   "execution_count": null,
   "metadata": {},
   "outputs": [],
   "source": []
  }
 ],
 "metadata": {
  "kernelspec": {
   "display_name": "Python 3",
   "language": "python",
   "name": "python3"
  },
  "language_info": {
   "codemirror_mode": {
    "name": "ipython",
    "version": 3
   },
   "file_extension": ".py",
   "mimetype": "text/x-python",
   "name": "python",
   "nbconvert_exporter": "python",
   "pygments_lexer": "ipython3",
   "version": "3.6.8"
  }
 },
 "nbformat": 4,
 "nbformat_minor": 2
}
