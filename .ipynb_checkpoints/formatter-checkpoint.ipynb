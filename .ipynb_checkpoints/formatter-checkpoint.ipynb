{
 "cells": [
  {
   "cell_type": "code",
   "execution_count": 160,
   "metadata": {},
   "outputs": [
    {
     "name": "stdout",
     "output_type": "stream",
     "text": [
      "  ResourceID   Column 1 Column 2\n",
      "0          1          A       X \n",
      "1          2  B $ C $ D        Y\n",
      "2          3     E $ F        Z \n",
      "B\n",
      "C\n",
      "D\n",
      "E\n",
      "F \n"
     ]
    }
   ],
   "source": [
    "'''Read CSV // Detect $ in dataframe // Start a new line with value after $ and the same resID'''\n",
    "\n",
    "import pandas as pd\n",
    "\n",
    "file_path = './input/example_data.csv'\n",
    "df = pd.read_csv(file_path)#, 'r',  encoding='utf-8')\n",
    "df = pd.DataFrame(df, dtype=str)\n",
    "print(df)\n",
    "\n",
    "#find the $ separated values\n",
    "for column in df.columns:\n",
    "    for entry in df[column]:\n",
    "        if \"$\" in str(entry):\n",
    "            entry1 = entry.split(' $ ')\n",
    "            for result in entry1:\n",
    "                print(result)          \n",
    "        else:\n",
    "            pass\n",
    "        \n"
   ]
  },
  {
   "cell_type": "code",
   "execution_count": null,
   "metadata": {},
   "outputs": [],
   "source": []
  }
 ],
 "metadata": {
  "kernelspec": {
   "display_name": "Python 3",
   "language": "python",
   "name": "python3"
  },
  "language_info": {
   "codemirror_mode": {
    "name": "ipython",
    "version": 3
   },
   "file_extension": ".py",
   "mimetype": "text/x-python",
   "name": "python",
   "nbconvert_exporter": "python",
   "pygments_lexer": "ipython3",
   "version": "3.6.8"
  }
 },
 "nbformat": 4,
 "nbformat_minor": 2
}
