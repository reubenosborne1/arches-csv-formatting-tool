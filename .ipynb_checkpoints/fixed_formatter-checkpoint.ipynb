{
 "cells": [
  {
   "cell_type": "code",
   "execution_count": 6,
   "metadata": {
    "scrolled": true
   },
   "outputs": [
    {
     "ename": "UnicodeDecodeError",
     "evalue": "'utf-8' codec can't decode byte 0xee in position 586: invalid continuation byte",
     "output_type": "error",
     "traceback": [
      "\u001b[1;31m---------------------------------------------------------------------------\u001b[0m",
      "\u001b[1;31mUnicodeDecodeError\u001b[0m                        Traceback (most recent call last)",
      "\u001b[1;32m<ipython-input-6-96b33528636e>\u001b[0m in \u001b[0;36m<module>\u001b[1;34m\u001b[0m\n\u001b[0;32m      5\u001b[0m \u001b[1;32mwith\u001b[0m \u001b[0mopen\u001b[0m\u001b[1;33m(\u001b[0m\u001b[0mfile\u001b[0m\u001b[1;33m,\u001b[0m \u001b[1;34m'r'\u001b[0m\u001b[1;33m,\u001b[0m \u001b[0mencoding\u001b[0m\u001b[1;33m=\u001b[0m\u001b[1;34m'utf-8'\u001b[0m\u001b[1;33m)\u001b[0m \u001b[1;32mas\u001b[0m \u001b[0mf\u001b[0m\u001b[1;33m:\u001b[0m\u001b[1;33m\u001b[0m\u001b[1;33m\u001b[0m\u001b[0m\n\u001b[0;32m      6\u001b[0m     \u001b[0mreader\u001b[0m \u001b[1;33m=\u001b[0m \u001b[0mcsv\u001b[0m\u001b[1;33m.\u001b[0m\u001b[0mreader\u001b[0m\u001b[1;33m(\u001b[0m\u001b[0mf\u001b[0m\u001b[1;33m)\u001b[0m\u001b[1;33m\u001b[0m\u001b[1;33m\u001b[0m\u001b[0m\n\u001b[1;32m----> 7\u001b[1;33m     \u001b[0myour_list\u001b[0m \u001b[1;33m=\u001b[0m \u001b[0mlist\u001b[0m\u001b[1;33m(\u001b[0m\u001b[0mreader\u001b[0m\u001b[1;33m)\u001b[0m\u001b[1;33m\u001b[0m\u001b[1;33m\u001b[0m\u001b[0m\n\u001b[0m\u001b[0;32m      8\u001b[0m \u001b[1;33m\u001b[0m\u001b[0m\n\u001b[0;32m      9\u001b[0m \u001b[0mnew_list\u001b[0m\u001b[1;33m=\u001b[0m \u001b[1;33m[\u001b[0m\u001b[1;33m]\u001b[0m\u001b[1;33m\u001b[0m\u001b[1;33m\u001b[0m\u001b[0m\n",
      "\u001b[1;32m~\\AppData\\Local\\Continuum\\anaconda3\\lib\\codecs.py\u001b[0m in \u001b[0;36mdecode\u001b[1;34m(self, input, final)\u001b[0m\n\u001b[0;32m    319\u001b[0m         \u001b[1;31m# decode input (taking the buffer into account)\u001b[0m\u001b[1;33m\u001b[0m\u001b[1;33m\u001b[0m\u001b[1;33m\u001b[0m\u001b[0m\n\u001b[0;32m    320\u001b[0m         \u001b[0mdata\u001b[0m \u001b[1;33m=\u001b[0m \u001b[0mself\u001b[0m\u001b[1;33m.\u001b[0m\u001b[0mbuffer\u001b[0m \u001b[1;33m+\u001b[0m \u001b[0minput\u001b[0m\u001b[1;33m\u001b[0m\u001b[1;33m\u001b[0m\u001b[0m\n\u001b[1;32m--> 321\u001b[1;33m         \u001b[1;33m(\u001b[0m\u001b[0mresult\u001b[0m\u001b[1;33m,\u001b[0m \u001b[0mconsumed\u001b[0m\u001b[1;33m)\u001b[0m \u001b[1;33m=\u001b[0m \u001b[0mself\u001b[0m\u001b[1;33m.\u001b[0m\u001b[0m_buffer_decode\u001b[0m\u001b[1;33m(\u001b[0m\u001b[0mdata\u001b[0m\u001b[1;33m,\u001b[0m \u001b[0mself\u001b[0m\u001b[1;33m.\u001b[0m\u001b[0merrors\u001b[0m\u001b[1;33m,\u001b[0m \u001b[0mfinal\u001b[0m\u001b[1;33m)\u001b[0m\u001b[1;33m\u001b[0m\u001b[1;33m\u001b[0m\u001b[0m\n\u001b[0m\u001b[0;32m    322\u001b[0m         \u001b[1;31m# keep undecoded input until the next call\u001b[0m\u001b[1;33m\u001b[0m\u001b[1;33m\u001b[0m\u001b[1;33m\u001b[0m\u001b[0m\n\u001b[0;32m    323\u001b[0m         \u001b[0mself\u001b[0m\u001b[1;33m.\u001b[0m\u001b[0mbuffer\u001b[0m \u001b[1;33m=\u001b[0m \u001b[0mdata\u001b[0m\u001b[1;33m[\u001b[0m\u001b[0mconsumed\u001b[0m\u001b[1;33m:\u001b[0m\u001b[1;33m]\u001b[0m\u001b[1;33m\u001b[0m\u001b[1;33m\u001b[0m\u001b[0m\n",
      "\u001b[1;31mUnicodeDecodeError\u001b[0m: 'utf-8' codec can't decode byte 0xee in position 586: invalid continuation byte"
     ]
    }
   ],
   "source": [
    "import csv\n",
    "\n",
    "file = './input/full_data.csv'\n",
    "\n",
    "with open(file, 'r', encoding='utf-8') as f:\n",
    "    reader = csv.reader(f)\n",
    "    your_list = list(reader)\n",
    "\n",
    "new_list= []\n",
    "\n",
    "for row in your_list:\n",
    "    temp_list_row = []\n",
    "    dollar = False\n",
    "    \n",
    "    for j in range(1,len(row)):\n",
    "        if \" $ \" in row[j]:\n",
    "            dollar = True\n",
    "            break\n",
    "            \n",
    "    for j in range(1,len(row)):\n",
    "        temp_list_col = []\n",
    "        \n",
    "        if \" $ \" in row[j]:\n",
    "            temp_list_col = row[j].split(\" $ \")\n",
    "            \n",
    "            for item in temp_list_col:\n",
    "                temp_list_row.append([row[0],item,j])\n",
    "                \n",
    "        elif \" $ \" not in row[j] and dollar == True:\n",
    "            temp_list_row.append([row[0],row[j],j])\n",
    "        \n",
    "    if temp_list_row:\n",
    "        row_no = len(new_list)\n",
    "        new_list.append([0]*len(row))\n",
    "        for x in range(1,len(row)):\n",
    "            first = True\n",
    "            for item in temp_list_row:\n",
    "                if x == item[2]:\n",
    "                    if first == True:\n",
    "                        new_list[row_no][0] = item[0]\n",
    "                        new_list[row_no][x] = item[1]\n",
    "                        first = False\n",
    "                    else:\n",
    "                        new_list.append([0]*len(row))\n",
    "                        new_list[len(new_list)-1][0] = item[0]\n",
    "                        for y in range(1,len(row)):\n",
    "                            if y != x:\n",
    "                                new_list[len(new_list)-1][y] = \"\"\n",
    "                            else:\n",
    "                                new_list[len(new_list)-1][y] = item[1]    \n",
    "    else:\n",
    "        new_list.append(row)\n",
    "        \n",
    "new_file = 'output_test_data.csv'\n",
    "\n",
    "file = open(new_file, \"w\", encoding='utf-8', newline='')\n",
    "writer = csv.writer(file, delimiter = \",\")\n",
    "\n",
    "for list_ in new_list:\n",
    "    writer.writerow(list_)\n",
    "file.close()   \n",
    "\n",
    "import pandas as pd\n",
    "df = pd.read_csv('output_test_data.csv')\n",
    "df"
   ]
  },
  {
   "cell_type": "markdown",
   "metadata": {},
   "source": [
    "## Old"
   ]
  },
  {
   "cell_type": "code",
   "execution_count": 47,
   "metadata": {},
   "outputs": [
    {
     "name": "stdout",
     "output_type": "stream",
     "text": [
      "[['ResourceID', 'Column 1', 'Column 2'], ['1', 'A', 'X'], ['2', 'B', 'Y'], ['2', 'C', ''], ['2', 'D', ''], ['3', 'E', 'Z'], ['3', 'F', '']]\n"
     ]
    },
    {
     "data": {
      "text/plain": [
       "'file = open(new_file, \"w\", encoding=\\'utf-8\\', newline=\\'\\')\\nwriter = csv.writer(file, delimiter = \",\")\\n\\nfor list_ in new_list:\\n    writer.writerow(list_)\\nfile.close()'"
      ]
     },
     "execution_count": 47,
     "metadata": {},
     "output_type": "execute_result"
    }
   ],
   "source": [
    "import csv\n",
    "\n",
    "file = 'example_data.csv'\n",
    "\n",
    "with open(file, 'r') as f:\n",
    "    reader = csv.reader(f)\n",
    "    your_list = list(reader)\n",
    "\n",
    "i=0\n",
    "new_list= []\n",
    "\n",
    "for row in your_list:\n",
    "    temp_list = []\n",
    "    if \" $ \" in row[1]:\n",
    "        temp_list = row[1].split(\" $ \")\n",
    "    else:\n",
    "        new_list.append(row)\n",
    "    \n",
    "    i=0\n",
    "    for item in temp_list:\n",
    "        if i == 0:\n",
    "            new_list.append([row[0], item, row[2]])\n",
    "        else:\n",
    "            new_list.append([row[0], item, \"\"])\n",
    "        i += 1\n",
    "\n",
    "new_file = 'output_data.csv'\n",
    "\n",
    "file = open(new_file, \"w\", encoding='utf-8', newline='')\n",
    "writer = csv.writer(file, delimiter = \",\")\n",
    "\n",
    "for list_ in new_list:\n",
    "    writer.writerow(list_)\n",
    "file.close()"
   ]
  }
 ],
 "metadata": {
  "kernelspec": {
   "display_name": "Python 3",
   "language": "python",
   "name": "python3"
  },
  "language_info": {
   "codemirror_mode": {
    "name": "ipython",
    "version": 3
   },
   "file_extension": ".py",
   "mimetype": "text/x-python",
   "name": "python",
   "nbconvert_exporter": "python",
   "pygments_lexer": "ipython3",
   "version": "3.6.8"
  }
 },
 "nbformat": 4,
 "nbformat_minor": 2
}
