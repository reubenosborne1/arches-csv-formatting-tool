{
 "cells": [
  {
   "cell_type": "code",
   "execution_count": 3,
   "metadata": {},
   "outputs": [],
   "source": [
    "import csv\n",
    "\n",
    "file = './input/example_data.csv'\n",
    "\n",
    "with open(file, 'r') as f:\n",
    "    reader = csv.reader(f)\n",
    "    your_list = list(reader)\n",
    "\n",
    "i=0\n",
    "new_list= []\n",
    "\n",
    "for row in your_list:\n",
    "    temp_list = []\n",
    "    if \" $ \" in row[1]:\n",
    "        temp_list = row[1].split(\" $ \")\n",
    "    else:\n",
    "        new_list.append(row)\n",
    "    \n",
    "    i=0\n",
    "    for item in temp_list:\n",
    "        if i == 0:\n",
    "            new_list.append([row[0], item, row[2]])\n",
    "        else:\n",
    "            new_list.append([row[0], item, \"\"])\n",
    "        i += 1\n",
    "        \n",
    "new_file = 'output_data.csv'\n",
    "\n",
    "file = open(new_file, \"w\", encoding='utf-8', newline='')\n",
    "writer = csv.writer(file, delimiter = \",\")\n",
    "\n",
    "for list_ in new_list:\n",
    "    writer.writerow(list_)\n",
    "file.close()"
   ]
  },
  {
   "cell_type": "code",
   "execution_count": null,
   "metadata": {},
   "outputs": [],
   "source": []
  }
 ],
 "metadata": {
  "kernelspec": {
   "display_name": "Python 3",
   "language": "python",
   "name": "python3"
  },
  "language_info": {
   "codemirror_mode": {
    "name": "ipython",
    "version": 3
   },
   "file_extension": ".py",
   "mimetype": "text/x-python",
   "name": "python",
   "nbconvert_exporter": "python",
   "pygments_lexer": "ipython3",
   "version": "3.6.8"
  }
 },
 "nbformat": 4,
 "nbformat_minor": 2
}
