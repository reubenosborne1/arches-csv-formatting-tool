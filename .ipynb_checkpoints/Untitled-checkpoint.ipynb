{
 "cells": [
  {
   "cell_type": "code",
   "execution_count": 28,
   "metadata": {},
   "outputs": [
    {
     "data": {
      "text/plain": [
       "Index(['ResourceID', 'Subject(s)', 'Bibliographic Item Description text',\n",
       "       'Bibliographic Source Title', 'Author'],\n",
       "      dtype='object')"
      ]
     },
     "execution_count": 28,
     "metadata": {},
     "output_type": "execute_result"
    }
   ],
   "source": [
    "'''Read CSV // Detect $ in dataframe // Start a new line with value after $ and the same resID'''\n",
    "\n",
    "import pandas as pd\n",
    "\n",
    "file_path = './sample.csv'\n",
    "df = pd.read_csv(file_path)#, 'r',  encoding='utf-8')\n",
    "df = pd.DataFrame(df, dtype=str)\n",
    "df.columns\n"
   ]
  },
  {
   "cell_type": "code",
   "execution_count": 30,
   "metadata": {},
   "outputs": [
    {
     "ename": "SyntaxError",
     "evalue": "unexpected EOF while parsing (<ipython-input-30-bcf82823a768>, line 6)",
     "output_type": "error",
     "traceback": [
      "\u001b[0;36m  File \u001b[0;32m\"<ipython-input-30-bcf82823a768>\"\u001b[0;36m, line \u001b[0;32m6\u001b[0m\n\u001b[0;31m    #df.loc[column] = df['ResourceID']\u001b[0m\n\u001b[0m                                      ^\u001b[0m\n\u001b[0;31mSyntaxError\u001b[0m\u001b[0;31m:\u001b[0m unexpected EOF while parsing\n"
     ]
    }
   ],
   "source": [
    "for column in df.columns:\n",
    "    for entry in df[column]:\n",
    "        if \"$\" in entry:\n",
    "            entry = entry.split(' $ ')\n",
    "            for result in entry: \n",
    "                df.loc[column] = df['ResourceID']"
   ]
  },
  {
   "cell_type": "code",
   "execution_count": null,
   "metadata": {},
   "outputs": [],
   "source": []
  },
  {
   "cell_type": "code",
   "execution_count": null,
   "metadata": {},
   "outputs": [],
   "source": []
  }
 ],
 "metadata": {
  "kernelspec": {
   "display_name": "Python 3",
   "language": "python",
   "name": "python3"
  },
  "language_info": {
   "codemirror_mode": {
    "name": "ipython",
    "version": 3
   },
   "file_extension": ".py",
   "mimetype": "text/x-python",
   "name": "python",
   "nbconvert_exporter": "python",
   "pygments_lexer": "ipython3",
   "version": "3.6.8"
  }
 },
 "nbformat": 4,
 "nbformat_minor": 2
}
