{
 "cells": [
  {
   "cell_type": "code",
   "execution_count": 2,
   "metadata": {
    "scrolled": true
   },
   "outputs": [
    {
     "name": "stdout",
     "output_type": "stream",
     "text": [
      "output_data_2.csv\n"
     ]
    }
   ],
   "source": [
    "import csv\n",
    "\n",
    "file = './input/testing_data.csv'\n",
    "\n",
    "with open(file, 'r') as f:\n",
    "    reader = csv.reader(f)\n",
    "    your_list = list(reader)\n",
    "\n",
    "new_list= []\n",
    "\n",
    "for row in your_list:\n",
    "    temp_list_row = []\n",
    "    dollar = False\n",
    "    for j in range(1,len(row)):\n",
    "        temp_list_col = []\n",
    "        \n",
    "        if \" $ \" in row[j]:\n",
    "            dollar = True\n",
    "            temp_list_col = row[j].split(\" $ \")\n",
    "            \n",
    "            for item in temp_list_col:\n",
    "                temp_list_row.append([row[0],item,j])\n",
    "                \n",
    "        elif \" $ \" not in row[j] and dollar == True:\n",
    "            temp_list_row.append([row[0],row[j],j])\n",
    "        \n",
    "    if temp_list_row:\n",
    "        row_no = len(new_list)\n",
    "        new_list.append([0]*len(row))\n",
    "        for x in range(1,len(row)):\n",
    "            first = True\n",
    "            for item in temp_list_row:\n",
    "                if x == item[2]:\n",
    "                    if first == True:\n",
    "                        new_list[row_no][0] = item[0]\n",
    "                        new_list[row_no][x] = item[1]\n",
    "                        first = False\n",
    "                    else:\n",
    "                        new_list.append([0]*len(row))\n",
    "                        new_list[len(new_list)-1][0] = item[0]\n",
    "                        for y in range(1,len(row)):\n",
    "                            if y != x:\n",
    "                                new_list[len(new_list)-1][y] = \"\"\n",
    "                            else:\n",
    "                                new_list[len(new_list)-1][y] = item[1]    \n",
    "    else:\n",
    "        new_list.append(row)\n",
    "\n",
    "new_file = 'output_data_2.csv'\n",
    "\n",
    "file = open(new_file, \"w\", encoding='utf-8', newline='')\n",
    "writer = csv.writer(file, delimiter = \",\")\n",
    "\n",
    "for list_ in new_list:\n",
    "    writer.writerow(list_)\n",
    "file.close()\n",
    "print(new_file)"
   ]
  },
  {
   "cell_type": "markdown",
   "metadata": {},
   "source": [
    "## Old"
   ]
  },
  {
   "cell_type": "code",
   "execution_count": 47,
   "metadata": {},
   "outputs": [
    {
     "name": "stdout",
     "output_type": "stream",
     "text": [
      "[['ResourceID', 'Column 1', 'Column 2'], ['1', 'A', 'X'], ['2', 'B', 'Y'], ['2', 'C', ''], ['2', 'D', ''], ['3', 'E', 'Z'], ['3', 'F', '']]\n"
     ]
    },
    {
     "data": {
      "text/plain": [
       "'file = open(new_file, \"w\", encoding=\\'utf-8\\', newline=\\'\\')\\nwriter = csv.writer(file, delimiter = \",\")\\n\\nfor list_ in new_list:\\n    writer.writerow(list_)\\nfile.close()'"
      ]
     },
     "execution_count": 47,
     "metadata": {},
     "output_type": "execute_result"
    }
   ],
   "source": [
    "import csv\n",
    "\n",
    "file = 'example_data.csv'\n",
    "\n",
    "with open(file, 'r') as f:\n",
    "    reader = csv.reader(f)\n",
    "    your_list = list(reader)\n",
    "\n",
    "i=0\n",
    "new_list= []\n",
    "\n",
    "for row in your_list:\n",
    "    temp_list = []\n",
    "    if \" $ \" in row[1]:\n",
    "        temp_list = row[1].split(\" $ \")\n",
    "    else:\n",
    "        new_list.append(row)\n",
    "    \n",
    "    i=0\n",
    "    for item in temp_list:\n",
    "        if i == 0:\n",
    "            new_list.append([row[0], item, row[2]])\n",
    "        else:\n",
    "            new_list.append([row[0], item, \"\"])\n",
    "        i += 1\n",
    "\n",
    "new_file = 'output_data.csv'\n",
    "\n",
    "file = open(new_file, \"w\", encoding='utf-8', newline='')\n",
    "writer = csv.writer(file, delimiter = \",\")\n",
    "\n",
    "for list_ in new_list:\n",
    "    writer.writerow(list_)\n",
    "file.close()"
   ]
  }
 ],
 "metadata": {
  "kernelspec": {
   "display_name": "Python 3",
   "language": "python",
   "name": "python3"
  },
  "language_info": {
   "codemirror_mode": {
    "name": "ipython",
    "version": 3
   },
   "file_extension": ".py",
   "mimetype": "text/x-python",
   "name": "python",
   "nbconvert_exporter": "python",
   "pygments_lexer": "ipython3",
   "version": "3.6.8"
  }
 },
 "nbformat": 4,
 "nbformat_minor": 2
}
