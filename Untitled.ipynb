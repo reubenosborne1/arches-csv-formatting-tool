{
 "cells": [
  {
   "cell_type": "code",
   "execution_count": 28,
   "metadata": {},
   "outputs": [
    {
     "data": {
      "text/plain": [
       "Index(['ResourceID', 'Subject(s)', 'Bibliographic Item Description text',\n",
       "       'Bibliographic Source Title', 'Author'],\n",
       "      dtype='object')"
      ]
     },
     "execution_count": 28,
     "metadata": {},
     "output_type": "execute_result"
    }
   ],
   "source": [
    "'''Read CSV // Detect $ in dataframe // Start a new line with value after $ and the same resID'''\n",
    "\n",
    "import pandas as pd\n",
    "\n",
    "file_path = './sample.csv'\n",
    "df = pd.read_csv(file_path)#, 'r',  encoding='utf-8')\n",
    "df = pd.DataFrame(df, dtype=str)\n",
    "df.columns\n"
   ]
  },
  {
   "cell_type": "code",
   "execution_count": 45,
   "metadata": {},
   "outputs": [
    {
     "name": "stdout",
     "output_type": "stream",
     "text": [
      "           ResourceID                            Subject(s)  \\\n",
      "0                   1                               History   \n",
      "1                   2                               History   \n",
      "2                   3                   History $ Geography   \n",
      "3                   4                   History $ Geography   \n",
      "4                   5                             Geography   \n",
      "5                   6                               History   \n",
      "6                   7                          Anthropology   \n",
      "7                   8  History $ Archaeology $ Anthropology   \n",
      "8                   9                          Anthropology   \n",
      "9                  10            Archaeology $ Anthropology   \n",
      "Subject(s)        NaN                                   NaN   \n",
      "Author            NaN                                   NaN   \n",
      "\n",
      "                          Bibliographic Item Description text  \\\n",
      "0           L'histiore du christianisme dans l'île de Soco...   \n",
      "1           Un successeur de l'Apôtre Saint Thomas, Frère ...   \n",
      "2                                                         nan   \n",
      "3                                                         nan   \n",
      "4                                                   With maps   \n",
      "5           Text with introduction, translation and commen...   \n",
      "6                                                         nan   \n",
      "7                                                         nan   \n",
      "8                      In Naumkin, V.V. Island of the Phoenix   \n",
      "9           In: Hadramaut. Volume 1. \"Vostochnaya Literatu...   \n",
      "Subject(s)                                                NaN   \n",
      "Author                                                    NaN   \n",
      "\n",
      "                                   Bibliographic Source Title  \\\n",
      "0           L'histiore du Christianisme dans l'île de Soco...   \n",
      "1           Un successeur de l'Apôtre Saint Thomas, Frère ...   \n",
      "2                                          L'île de Socotorah   \n",
      "3                                           L'île de Socotora   \n",
      "4                                       The Ancient Explorers   \n",
      "5                                The Periplus Maris Erythraei   \n",
      "6           Out of Arabia - The Settlement of Island Soqot...   \n",
      "7           Socotra - A Natural History of the Islands and...   \n",
      "8                          Human Cranial Remains from Socotra   \n",
      "9           The First Palaeoanthropological Materials from...   \n",
      "Subject(s)                                                NaN   \n",
      "Author                                                    NaN   \n",
      "\n",
      "                                                       Author  \n",
      "0                                          Caillaud, F. R. du  \n",
      "1                                          Caillaud, F. R. du  \n",
      "2                                             Candolle, A. de  \n",
      "3                                             Capitaine, M.H.  \n",
      "4                                 Cary, M. $ Warmington, E.H.  \n",
      "5                                            Casson, L. (ed.)  \n",
      "6           Cerný, V. $ Pereira, L. $ Kujanová, M. $ Vasík...  \n",
      "7                                 Cheung, C. $ De Vantier, L.  \n",
      "8                                              Chistov, Yu.K.  \n",
      "9                                              Chistov, Yu.K.  \n",
      "Subject(s)                                                NaN  \n",
      "Author                                                    NaN  \n"
     ]
    }
   ],
   "source": [
    "for column in df.columns:\n",
    "    for entry in df[column]:\n",
    "        if \"$\" in str(entry):\n",
    "            entry = entry.split(' $ ')\n",
    "            for result in entry: \n",
    "                df.loc[column] = df['ResourceID'] + result\n",
    "print(df)\n",
    "                "
   ]
  },
  {
   "cell_type": "code",
   "execution_count": null,
   "metadata": {},
   "outputs": [],
   "source": []
  },
  {
   "cell_type": "code",
   "execution_count": null,
   "metadata": {},
   "outputs": [],
   "source": []
  }
 ],
 "metadata": {
  "kernelspec": {
   "display_name": "Python 3",
   "language": "python",
   "name": "python3"
  },
  "language_info": {
   "codemirror_mode": {
    "name": "ipython",
    "version": 3
   },
   "file_extension": ".py",
   "mimetype": "text/x-python",
   "name": "python",
   "nbconvert_exporter": "python",
   "pygments_lexer": "ipython3",
   "version": "3.6.8"
  }
 },
 "nbformat": 4,
 "nbformat_minor": 2
}
